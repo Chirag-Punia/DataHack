{
  "nbformat": 4,
  "nbformat_minor": 0,
  "metadata": {
    "colab": {
      "provenance": []
    },
    "kernelspec": {
      "name": "python3",
      "display_name": "Python 3"
    },
    "language_info": {
      "name": "python"
    }
  },
  "cells": [
    {
      "cell_type": "code",
      "execution_count": 3,
      "metadata": {
        "id": "rf6osHnnNAD7"
      },
      "outputs": [],
      "source": [
        "import pandas as pd\n",
        "import numpy as np\n",
        "from sklearn.model_selection import train_test_split\n",
        "from sklearn.ensemble import RandomForestClassifier\n",
        "from sklearn.preprocessing import OneHotEncoder\n",
        "from sklearn.impute import SimpleImputer\n",
        "from sklearn.metrics import roc_auc_score"
      ]
    },
    {
      "cell_type": "code",
      "source": [
        "training_set = pd.read_csv('training_set_features.csv')\n",
        "training_set_labels = pd.read_csv('training_set_labels.csv')\n",
        "test_set = pd.read_csv('test_set_features.csv')\n",
        "submission_format = pd.read_csv('submission_format.csv')"
      ],
      "metadata": {
        "id": "6t4peLRHNiFB"
      },
      "execution_count": 4,
      "outputs": []
    },
    {
      "cell_type": "code",
      "source": [
        "training_data = training_set.merge(training_set_labels, on='respondent_id')"
      ],
      "metadata": {
        "id": "vJRjtrqENi3g"
      },
      "execution_count": 5,
      "outputs": []
    },
    {
      "cell_type": "code",
      "source": [
        "X = training_data.drop(columns=['respondent_id', 'xyz_vaccine', 'seasonal_vaccine'])\n",
        "y_xyz = training_data['xyz_vaccine']\n",
        "y_seasonal = training_data['seasonal_vaccine']"
      ],
      "metadata": {
        "id": "BhBTnevnNi0o"
      },
      "execution_count": 6,
      "outputs": []
    },
    {
      "cell_type": "code",
      "source": [
        "imputer = SimpleImputer(strategy='most_frequent')\n",
        "X_imputed = pd.DataFrame(imputer.fit_transform(X), columns=X.columns)\n",
        "test_imputed = pd.DataFrame(imputer.transform(test_set.drop(columns=['respondent_id'])), columns=X.columns)"
      ],
      "metadata": {
        "id": "zAE55XYeNiyT"
      },
      "execution_count": 7,
      "outputs": []
    },
    {
      "cell_type": "code",
      "source": [
        "categorical_cols = X_imputed.select_dtypes(include=['object']).columns"
      ],
      "metadata": {
        "id": "86sTNpogNiv9"
      },
      "execution_count": 8,
      "outputs": []
    },
    {
      "cell_type": "code",
      "source": [
        "encoder = OneHotEncoder(sparse=False, drop='first')\n",
        "encoded_cols = pd.DataFrame(encoder.fit_transform(X_imputed[categorical_cols]))\n",
        "encoded_cols.columns = encoder.get_feature_names_out(categorical_cols)"
      ],
      "metadata": {
        "colab": {
          "base_uri": "https://localhost:8080/"
        },
        "id": "YjCKK6zINitn",
        "outputId": "3bede9b8-99b0-4217-98b9-dca3417024c1"
      },
      "execution_count": 9,
      "outputs": [
        {
          "output_type": "stream",
          "name": "stderr",
          "text": [
            "/usr/local/lib/python3.10/dist-packages/sklearn/preprocessing/_encoders.py:868: FutureWarning: `sparse` was renamed to `sparse_output` in version 1.2 and will be removed in 1.4. `sparse_output` is ignored unless you leave `sparse` to its default value.\n",
            "  warnings.warn(\n"
          ]
        }
      ]
    },
    {
      "cell_type": "code",
      "source": [
        "X_encoded = X_imputed.drop(columns=categorical_cols).reset_index(drop=True)\n",
        "X_encoded = pd.concat([X_encoded, encoded_cols], axis=1)"
      ],
      "metadata": {
        "id": "nPDBmlC8NirQ"
      },
      "execution_count": 10,
      "outputs": []
    },
    {
      "cell_type": "code",
      "source": [
        "X_train, X_val, y_train_xyz, y_val_xyz = train_test_split(X_encoded, y_xyz, test_size=0.2, random_state=0)\n",
        "_, _, y_train_seasonal, y_val_seasonal = train_test_split(X_encoded, y_seasonal, test_size=0.2, random_state=0)"
      ],
      "metadata": {
        "id": "AP-M4QBYNiop"
      },
      "execution_count": 11,
      "outputs": []
    },
    {
      "cell_type": "code",
      "source": [
        "model_xyz = RandomForestClassifier(random_state=0)\n",
        "model_seasonal = RandomForestClassifier(random_state=0)"
      ],
      "metadata": {
        "id": "7dp0kyqLNimU"
      },
      "execution_count": 12,
      "outputs": []
    },
    {
      "cell_type": "code",
      "source": [
        "model_xyz.fit(X_train, y_train_xyz)\n",
        "model_seasonal.fit(X_train, y_train_seasonal)"
      ],
      "metadata": {
        "colab": {
          "base_uri": "https://localhost:8080/",
          "height": 75
        },
        "id": "mSYCkughNijw",
        "outputId": "ffc1bfbf-28d6-4bbb-95b2-61334b19dd9c"
      },
      "execution_count": 13,
      "outputs": [
        {
          "output_type": "execute_result",
          "data": {
            "text/plain": [
              "RandomForestClassifier(random_state=0)"
            ],
            "text/html": [
              "<style>#sk-container-id-1 {color: black;background-color: white;}#sk-container-id-1 pre{padding: 0;}#sk-container-id-1 div.sk-toggleable {background-color: white;}#sk-container-id-1 label.sk-toggleable__label {cursor: pointer;display: block;width: 100%;margin-bottom: 0;padding: 0.3em;box-sizing: border-box;text-align: center;}#sk-container-id-1 label.sk-toggleable__label-arrow:before {content: \"▸\";float: left;margin-right: 0.25em;color: #696969;}#sk-container-id-1 label.sk-toggleable__label-arrow:hover:before {color: black;}#sk-container-id-1 div.sk-estimator:hover label.sk-toggleable__label-arrow:before {color: black;}#sk-container-id-1 div.sk-toggleable__content {max-height: 0;max-width: 0;overflow: hidden;text-align: left;background-color: #f0f8ff;}#sk-container-id-1 div.sk-toggleable__content pre {margin: 0.2em;color: black;border-radius: 0.25em;background-color: #f0f8ff;}#sk-container-id-1 input.sk-toggleable__control:checked~div.sk-toggleable__content {max-height: 200px;max-width: 100%;overflow: auto;}#sk-container-id-1 input.sk-toggleable__control:checked~label.sk-toggleable__label-arrow:before {content: \"▾\";}#sk-container-id-1 div.sk-estimator input.sk-toggleable__control:checked~label.sk-toggleable__label {background-color: #d4ebff;}#sk-container-id-1 div.sk-label input.sk-toggleable__control:checked~label.sk-toggleable__label {background-color: #d4ebff;}#sk-container-id-1 input.sk-hidden--visually {border: 0;clip: rect(1px 1px 1px 1px);clip: rect(1px, 1px, 1px, 1px);height: 1px;margin: -1px;overflow: hidden;padding: 0;position: absolute;width: 1px;}#sk-container-id-1 div.sk-estimator {font-family: monospace;background-color: #f0f8ff;border: 1px dotted black;border-radius: 0.25em;box-sizing: border-box;margin-bottom: 0.5em;}#sk-container-id-1 div.sk-estimator:hover {background-color: #d4ebff;}#sk-container-id-1 div.sk-parallel-item::after {content: \"\";width: 100%;border-bottom: 1px solid gray;flex-grow: 1;}#sk-container-id-1 div.sk-label:hover label.sk-toggleable__label {background-color: #d4ebff;}#sk-container-id-1 div.sk-serial::before {content: \"\";position: absolute;border-left: 1px solid gray;box-sizing: border-box;top: 0;bottom: 0;left: 50%;z-index: 0;}#sk-container-id-1 div.sk-serial {display: flex;flex-direction: column;align-items: center;background-color: white;padding-right: 0.2em;padding-left: 0.2em;position: relative;}#sk-container-id-1 div.sk-item {position: relative;z-index: 1;}#sk-container-id-1 div.sk-parallel {display: flex;align-items: stretch;justify-content: center;background-color: white;position: relative;}#sk-container-id-1 div.sk-item::before, #sk-container-id-1 div.sk-parallel-item::before {content: \"\";position: absolute;border-left: 1px solid gray;box-sizing: border-box;top: 0;bottom: 0;left: 50%;z-index: -1;}#sk-container-id-1 div.sk-parallel-item {display: flex;flex-direction: column;z-index: 1;position: relative;background-color: white;}#sk-container-id-1 div.sk-parallel-item:first-child::after {align-self: flex-end;width: 50%;}#sk-container-id-1 div.sk-parallel-item:last-child::after {align-self: flex-start;width: 50%;}#sk-container-id-1 div.sk-parallel-item:only-child::after {width: 0;}#sk-container-id-1 div.sk-dashed-wrapped {border: 1px dashed gray;margin: 0 0.4em 0.5em 0.4em;box-sizing: border-box;padding-bottom: 0.4em;background-color: white;}#sk-container-id-1 div.sk-label label {font-family: monospace;font-weight: bold;display: inline-block;line-height: 1.2em;}#sk-container-id-1 div.sk-label-container {text-align: center;}#sk-container-id-1 div.sk-container {/* jupyter's `normalize.less` sets `[hidden] { display: none; }` but bootstrap.min.css set `[hidden] { display: none !important; }` so we also need the `!important` here to be able to override the default hidden behavior on the sphinx rendered scikit-learn.org. See: https://github.com/scikit-learn/scikit-learn/issues/21755 */display: inline-block !important;position: relative;}#sk-container-id-1 div.sk-text-repr-fallback {display: none;}</style><div id=\"sk-container-id-1\" class=\"sk-top-container\"><div class=\"sk-text-repr-fallback\"><pre>RandomForestClassifier(random_state=0)</pre><b>In a Jupyter environment, please rerun this cell to show the HTML representation or trust the notebook. <br />On GitHub, the HTML representation is unable to render, please try loading this page with nbviewer.org.</b></div><div class=\"sk-container\" hidden><div class=\"sk-item\"><div class=\"sk-estimator sk-toggleable\"><input class=\"sk-toggleable__control sk-hidden--visually\" id=\"sk-estimator-id-1\" type=\"checkbox\" checked><label for=\"sk-estimator-id-1\" class=\"sk-toggleable__label sk-toggleable__label-arrow\">RandomForestClassifier</label><div class=\"sk-toggleable__content\"><pre>RandomForestClassifier(random_state=0)</pre></div></div></div></div></div>"
            ]
          },
          "metadata": {},
          "execution_count": 13
        }
      ]
    },
    {
      "cell_type": "code",
      "source": [
        "y_val_pred_xyz = model_xyz.predict_proba(X_val)[:, 1]\n",
        "y_val_pred_seasonal = model_seasonal.predict_proba(X_val)[:, 1]"
      ],
      "metadata": {
        "id": "auQhBfTJNicv"
      },
      "execution_count": 14,
      "outputs": []
    },
    {
      "cell_type": "code",
      "source": [
        "roc_auc_xyz = roc_auc_score(y_val_xyz, y_val_pred_xyz)\n",
        "roc_auc_seasonal = roc_auc_score(y_val_seasonal, y_val_pred_seasonal)\n",
        "mean_roc_auc = (roc_auc_xyz + roc_auc_seasonal) / 2"
      ],
      "metadata": {
        "id": "WFbkPnY0N1jm"
      },
      "execution_count": 15,
      "outputs": []
    },
    {
      "cell_type": "code",
      "source": [
        "print(f\"ROC AUC for xyz_vaccine: {roc_auc_xyz}\")\n",
        "print(f\"ROC AUC for seasonal_vaccine: {roc_auc_seasonal}\")\n",
        "print(f\"Mean ROC AUC: {mean_roc_auc}\")"
      ],
      "metadata": {
        "colab": {
          "base_uri": "https://localhost:8080/"
        },
        "id": "SkqgIV4zN1hD",
        "outputId": "37596773-922c-41ba-fefc-fc62becf7ffc"
      },
      "execution_count": 16,
      "outputs": [
        {
          "output_type": "stream",
          "name": "stdout",
          "text": [
            "ROC AUC for xyz_vaccine: 0.8174066425744279\n",
            "ROC AUC for seasonal_vaccine: 0.852225051323828\n",
            "Mean ROC AUC: 0.8348158469491279\n"
          ]
        }
      ]
    },
    {
      "cell_type": "code",
      "source": [
        "test_encoded_cols = pd.DataFrame(encoder.transform(test_imputed[categorical_cols]))\n",
        "test_encoded_cols.columns = encoder.get_feature_names_out(categorical_cols)\n",
        "X_test_encoded = test_imputed.drop(columns=categorical_cols).reset_index(drop=True)\n",
        "X_test_encoded = pd.concat([X_test_encoded, test_encoded_cols], axis=1)"
      ],
      "metadata": {
        "id": "ahsKAewvN1Zu"
      },
      "execution_count": 17,
      "outputs": []
    },
    {
      "cell_type": "code",
      "source": [
        "test_pred_xyz = model_xyz.predict_proba(X_test_encoded)[:, 1]\n",
        "test_pred_seasonal = model_seasonal.predict_proba(X_test_encoded)[:, 1]"
      ],
      "metadata": {
        "id": "3IwAv_XpN6J2"
      },
      "execution_count": 18,
      "outputs": []
    },
    {
      "cell_type": "code",
      "source": [
        "submission = pd.DataFrame({\n",
        "    'respondent_id': test_set['respondent_id'],\n",
        "    'xyz_vaccine': test_pred_xyz,\n",
        "    'seasonal_vaccine': test_pred_seasonal\n",
        "})"
      ],
      "metadata": {
        "id": "UyvV2nfiN6Fw"
      },
      "execution_count": 19,
      "outputs": []
    },
    {
      "cell_type": "code",
      "source": [
        "submission.to_csv('submission.csv', index=False)"
      ],
      "metadata": {
        "id": "hOA9ZLTqN75W"
      },
      "execution_count": 20,
      "outputs": []
    }
  ]
}